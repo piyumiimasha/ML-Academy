{
 "cells": [
  {
   "cell_type": "code",
   "execution_count": 10,
   "id": "e8625eb2",
   "metadata": {},
   "outputs": [
    {
     "name": "stdout",
     "output_type": "stream",
     "text": [
      "Requirement already satisfied: numpy in c:\\users\\viraj\\anaconda3\\envs\\bprmls\\lib\\site-packages (from -r requirements.txt (line 1)) (2.3.1)\n",
      "Requirement already satisfied: pandas in c:\\users\\viraj\\anaconda3\\envs\\bprmls\\lib\\site-packages (from -r requirements.txt (line 2)) (2.3.1)\n",
      "Requirement already satisfied: scikit-learn in c:\\users\\viraj\\anaconda3\\envs\\bprmls\\lib\\site-packages (from -r requirements.txt (line 3)) (1.7.0)\n",
      "Requirement already satisfied: seaborn in c:\\users\\viraj\\anaconda3\\envs\\bprmls\\lib\\site-packages (from -r requirements.txt (line 4)) (0.13.2)\n",
      "Requirement already satisfied: matplotlib in c:\\users\\viraj\\anaconda3\\envs\\bprmls\\lib\\site-packages (from -r requirements.txt (line 5)) (3.10.3)\n",
      "Requirement already satisfied: openai in c:\\users\\viraj\\anaconda3\\envs\\bprmls\\lib\\site-packages (from -r requirements.txt (line 6)) (1.95.1)\n",
      "Requirement already satisfied: groq in c:\\users\\viraj\\anaconda3\\envs\\bprmls\\lib\\site-packages (from -r requirements.txt (line 7)) (0.30.0)\n",
      "Requirement already satisfied: python-dateutil>=2.8.2 in c:\\users\\viraj\\anaconda3\\envs\\bprmls\\lib\\site-packages (from pandas->-r requirements.txt (line 2)) (2.9.0.post0)\n",
      "Requirement already satisfied: pytz>=2020.1 in c:\\users\\viraj\\anaconda3\\envs\\bprmls\\lib\\site-packages (from pandas->-r requirements.txt (line 2)) (2025.2)\n",
      "Requirement already satisfied: tzdata>=2022.7 in c:\\users\\viraj\\anaconda3\\envs\\bprmls\\lib\\site-packages (from pandas->-r requirements.txt (line 2)) (2025.2)\n",
      "Requirement already satisfied: scipy>=1.8.0 in c:\\users\\viraj\\anaconda3\\envs\\bprmls\\lib\\site-packages (from scikit-learn->-r requirements.txt (line 3)) (1.16.0)\n",
      "Requirement already satisfied: joblib>=1.2.0 in c:\\users\\viraj\\anaconda3\\envs\\bprmls\\lib\\site-packages (from scikit-learn->-r requirements.txt (line 3)) (1.5.1)\n",
      "Requirement already satisfied: threadpoolctl>=3.1.0 in c:\\users\\viraj\\anaconda3\\envs\\bprmls\\lib\\site-packages (from scikit-learn->-r requirements.txt (line 3)) (3.6.0)\n",
      "Requirement already satisfied: contourpy>=1.0.1 in c:\\users\\viraj\\anaconda3\\envs\\bprmls\\lib\\site-packages (from matplotlib->-r requirements.txt (line 5)) (1.3.2)\n",
      "Requirement already satisfied: cycler>=0.10 in c:\\users\\viraj\\anaconda3\\envs\\bprmls\\lib\\site-packages (from matplotlib->-r requirements.txt (line 5)) (0.12.1)\n",
      "Requirement already satisfied: fonttools>=4.22.0 in c:\\users\\viraj\\anaconda3\\envs\\bprmls\\lib\\site-packages (from matplotlib->-r requirements.txt (line 5)) (4.58.5)\n",
      "Requirement already satisfied: kiwisolver>=1.3.1 in c:\\users\\viraj\\anaconda3\\envs\\bprmls\\lib\\site-packages (from matplotlib->-r requirements.txt (line 5)) (1.4.8)\n",
      "Requirement already satisfied: packaging>=20.0 in c:\\users\\viraj\\anaconda3\\envs\\bprmls\\lib\\site-packages (from matplotlib->-r requirements.txt (line 5)) (25.0)\n",
      "Requirement already satisfied: pillow>=8 in c:\\users\\viraj\\anaconda3\\envs\\bprmls\\lib\\site-packages (from matplotlib->-r requirements.txt (line 5)) (11.3.0)\n",
      "Requirement already satisfied: pyparsing>=2.3.1 in c:\\users\\viraj\\anaconda3\\envs\\bprmls\\lib\\site-packages (from matplotlib->-r requirements.txt (line 5)) (3.2.3)\n",
      "Requirement already satisfied: anyio<5,>=3.5.0 in c:\\users\\viraj\\anaconda3\\envs\\bprmls\\lib\\site-packages (from openai->-r requirements.txt (line 6)) (4.9.0)\n",
      "Requirement already satisfied: distro<2,>=1.7.0 in c:\\users\\viraj\\anaconda3\\envs\\bprmls\\lib\\site-packages (from openai->-r requirements.txt (line 6)) (1.9.0)\n",
      "Requirement already satisfied: httpx<1,>=0.23.0 in c:\\users\\viraj\\anaconda3\\envs\\bprmls\\lib\\site-packages (from openai->-r requirements.txt (line 6)) (0.28.1)\n",
      "Requirement already satisfied: jiter<1,>=0.4.0 in c:\\users\\viraj\\anaconda3\\envs\\bprmls\\lib\\site-packages (from openai->-r requirements.txt (line 6)) (0.10.0)\n",
      "Requirement already satisfied: pydantic<3,>=1.9.0 in c:\\users\\viraj\\anaconda3\\envs\\bprmls\\lib\\site-packages (from openai->-r requirements.txt (line 6)) (2.11.7)\n",
      "Requirement already satisfied: sniffio in c:\\users\\viraj\\anaconda3\\envs\\bprmls\\lib\\site-packages (from openai->-r requirements.txt (line 6)) (1.3.1)\n",
      "Requirement already satisfied: tqdm>4 in c:\\users\\viraj\\anaconda3\\envs\\bprmls\\lib\\site-packages (from openai->-r requirements.txt (line 6)) (4.67.1)\n",
      "Requirement already satisfied: typing-extensions<5,>=4.11 in c:\\users\\viraj\\anaconda3\\envs\\bprmls\\lib\\site-packages (from openai->-r requirements.txt (line 6)) (4.14.1)\n",
      "Requirement already satisfied: idna>=2.8 in c:\\users\\viraj\\anaconda3\\envs\\bprmls\\lib\\site-packages (from anyio<5,>=3.5.0->openai->-r requirements.txt (line 6)) (3.10)\n",
      "Requirement already satisfied: certifi in c:\\users\\viraj\\anaconda3\\envs\\bprmls\\lib\\site-packages (from httpx<1,>=0.23.0->openai->-r requirements.txt (line 6)) (2025.7.9)\n",
      "Requirement already satisfied: httpcore==1.* in c:\\users\\viraj\\anaconda3\\envs\\bprmls\\lib\\site-packages (from httpx<1,>=0.23.0->openai->-r requirements.txt (line 6)) (1.0.9)\n",
      "Requirement already satisfied: h11>=0.16 in c:\\users\\viraj\\anaconda3\\envs\\bprmls\\lib\\site-packages (from httpcore==1.*->httpx<1,>=0.23.0->openai->-r requirements.txt (line 6)) (0.16.0)\n",
      "Requirement already satisfied: annotated-types>=0.6.0 in c:\\users\\viraj\\anaconda3\\envs\\bprmls\\lib\\site-packages (from pydantic<3,>=1.9.0->openai->-r requirements.txt (line 6)) (0.7.0)\n",
      "Requirement already satisfied: pydantic-core==2.33.2 in c:\\users\\viraj\\anaconda3\\envs\\bprmls\\lib\\site-packages (from pydantic<3,>=1.9.0->openai->-r requirements.txt (line 6)) (2.33.2)\n",
      "Requirement already satisfied: typing-inspection>=0.4.0 in c:\\users\\viraj\\anaconda3\\envs\\bprmls\\lib\\site-packages (from pydantic<3,>=1.9.0->openai->-r requirements.txt (line 6)) (0.4.1)\n",
      "Requirement already satisfied: six>=1.5 in c:\\users\\viraj\\anaconda3\\envs\\bprmls\\lib\\site-packages (from python-dateutil>=2.8.2->pandas->-r requirements.txt (line 2)) (1.17.0)\n",
      "Requirement already satisfied: colorama in c:\\users\\viraj\\anaconda3\\envs\\bprmls\\lib\\site-packages (from tqdm>4->openai->-r requirements.txt (line 6)) (0.4.6)\n"
     ]
    }
   ],
   "source": [
    "!pip install -r requirements.txt"
   ]
  },
  {
   "cell_type": "code",
   "execution_count": null,
   "id": "aaeee0a2",
   "metadata": {},
   "outputs": [],
   "source": [
    "import pandas as pd\n",
    "import numpy as np\n",
    "import groq,openai"
   ]
  },
  {
   "cell_type": "markdown",
   "id": "7d6a799c",
   "metadata": {},
   "source": [
    "### Basic Information"
   ]
  },
  {
   "cell_type": "code",
   "execution_count": 16,
   "id": "30227dba",
   "metadata": {},
   "outputs": [],
   "source": [
    "\n",
    "df = pd.read_csv(r'C:\\Users\\viraj\\Ml-academy\\Week 01\\data\\raw\\CEHHbInToW.csv')\n"
   ]
  },
  {
   "cell_type": "code",
   "execution_count": 17,
   "id": "53852b05",
   "metadata": {},
   "outputs": [
    {
     "data": {
      "text/html": [
       "<div>\n",
       "<style scoped>\n",
       "    .dataframe tbody tr th:only-of-type {\n",
       "        vertical-align: middle;\n",
       "    }\n",
       "\n",
       "    .dataframe tbody tr th {\n",
       "        vertical-align: top;\n",
       "    }\n",
       "\n",
       "    .dataframe thead th {\n",
       "        text-align: right;\n",
       "    }\n",
       "</style>\n",
       "<table border=\"1\" class=\"dataframe\">\n",
       "  <thead>\n",
       "    <tr style=\"text-align: right;\">\n",
       "      <th></th>\n",
       "      <th>RowNumber</th>\n",
       "      <th>CustomerId</th>\n",
       "      <th>Firstname</th>\n",
       "      <th>Lastname</th>\n",
       "      <th>CreditScore</th>\n",
       "      <th>Geography</th>\n",
       "      <th>Gender</th>\n",
       "      <th>Age</th>\n",
       "      <th>Tenure</th>\n",
       "      <th>Balance</th>\n",
       "      <th>NumOfProducts</th>\n",
       "      <th>HasCrCard</th>\n",
       "      <th>IsActiveMember</th>\n",
       "      <th>EstimatedSalary</th>\n",
       "      <th>Exited</th>\n",
       "    </tr>\n",
       "  </thead>\n",
       "  <tbody>\n",
       "    <tr>\n",
       "      <th>0</th>\n",
       "      <td>1</td>\n",
       "      <td>15634602</td>\n",
       "      <td>Grace</td>\n",
       "      <td>Williams</td>\n",
       "      <td>619</td>\n",
       "      <td>France</td>\n",
       "      <td>Female</td>\n",
       "      <td>42.0</td>\n",
       "      <td>2</td>\n",
       "      <td>0.00</td>\n",
       "      <td>1</td>\n",
       "      <td>1</td>\n",
       "      <td>1</td>\n",
       "      <td>101348.88</td>\n",
       "      <td>1</td>\n",
       "    </tr>\n",
       "    <tr>\n",
       "      <th>1</th>\n",
       "      <td>2</td>\n",
       "      <td>15647311</td>\n",
       "      <td>David</td>\n",
       "      <td>Jones</td>\n",
       "      <td>608</td>\n",
       "      <td>Spain</td>\n",
       "      <td>Female</td>\n",
       "      <td>41.0</td>\n",
       "      <td>1</td>\n",
       "      <td>83807.86</td>\n",
       "      <td>1</td>\n",
       "      <td>0</td>\n",
       "      <td>1</td>\n",
       "      <td>112542.58</td>\n",
       "      <td>0</td>\n",
       "    </tr>\n",
       "    <tr>\n",
       "      <th>2</th>\n",
       "      <td>3</td>\n",
       "      <td>15619304</td>\n",
       "      <td>Hank</td>\n",
       "      <td>Williams</td>\n",
       "      <td>502</td>\n",
       "      <td>France</td>\n",
       "      <td>Female</td>\n",
       "      <td>42.0</td>\n",
       "      <td>8</td>\n",
       "      <td>159660.80</td>\n",
       "      <td>3</td>\n",
       "      <td>1</td>\n",
       "      <td>0</td>\n",
       "      <td>113931.57</td>\n",
       "      <td>1</td>\n",
       "    </tr>\n",
       "    <tr>\n",
       "      <th>3</th>\n",
       "      <td>4</td>\n",
       "      <td>15701354</td>\n",
       "      <td>Eva</td>\n",
       "      <td>Taylor</td>\n",
       "      <td>699</td>\n",
       "      <td>France</td>\n",
       "      <td>Female</td>\n",
       "      <td>NaN</td>\n",
       "      <td>1</td>\n",
       "      <td>0.00</td>\n",
       "      <td>2</td>\n",
       "      <td>0</td>\n",
       "      <td>0</td>\n",
       "      <td>93826.63</td>\n",
       "      <td>0</td>\n",
       "    </tr>\n",
       "    <tr>\n",
       "      <th>4</th>\n",
       "      <td>5</td>\n",
       "      <td>15737888</td>\n",
       "      <td>Grace</td>\n",
       "      <td>Miller</td>\n",
       "      <td>850</td>\n",
       "      <td>Spain</td>\n",
       "      <td>Female</td>\n",
       "      <td>43.0</td>\n",
       "      <td>2</td>\n",
       "      <td>125510.82</td>\n",
       "      <td>1</td>\n",
       "      <td>1</td>\n",
       "      <td>1</td>\n",
       "      <td>79084.10</td>\n",
       "      <td>0</td>\n",
       "    </tr>\n",
       "  </tbody>\n",
       "</table>\n",
       "</div>"
      ],
      "text/plain": [
       "   RowNumber  CustomerId Firstname  Lastname  CreditScore Geography  Gender  \\\n",
       "0          1    15634602     Grace  Williams          619    France  Female   \n",
       "1          2    15647311     David     Jones          608     Spain  Female   \n",
       "2          3    15619304      Hank  Williams          502    France  Female   \n",
       "3          4    15701354       Eva    Taylor          699    France  Female   \n",
       "4          5    15737888     Grace    Miller          850     Spain  Female   \n",
       "\n",
       "    Age  Tenure    Balance  NumOfProducts  HasCrCard  IsActiveMember  \\\n",
       "0  42.0       2       0.00              1          1               1   \n",
       "1  41.0       1   83807.86              1          0               1   \n",
       "2  42.0       8  159660.80              3          1               0   \n",
       "3   NaN       1       0.00              2          0               0   \n",
       "4  43.0       2  125510.82              1          1               1   \n",
       "\n",
       "   EstimatedSalary  Exited  \n",
       "0        101348.88       1  \n",
       "1        112542.58       0  \n",
       "2        113931.57       1  \n",
       "3         93826.63       0  \n",
       "4         79084.10       0  "
      ]
     },
     "execution_count": 17,
     "metadata": {},
     "output_type": "execute_result"
    }
   ],
   "source": [
    "df.head()"
   ]
  },
  {
   "cell_type": "code",
   "execution_count": 19,
   "id": "7c047bdd",
   "metadata": {},
   "outputs": [
    {
     "data": {
      "text/plain": [
       "RowNumber            0\n",
       "CustomerId           0\n",
       "Firstname            7\n",
       "Lastname             6\n",
       "CreditScore          0\n",
       "Geography            0\n",
       "Gender             108\n",
       "Age                600\n",
       "Tenure               0\n",
       "Balance              0\n",
       "NumOfProducts        0\n",
       "HasCrCard            0\n",
       "IsActiveMember       0\n",
       "EstimatedSalary      0\n",
       "Exited               0\n",
       "dtype: int64"
      ]
     },
     "execution_count": 19,
     "metadata": {},
     "output_type": "execute_result"
    }
   ],
   "source": [
    "df.isnull().sum()"
   ]
  },
  {
   "cell_type": "markdown",
   "id": "a879f8a4",
   "metadata": {},
   "source": [
    "### Handling missing values"
   ]
  },
  {
   "cell_type": "code",
   "execution_count": 22,
   "id": "85cd05a6",
   "metadata": {},
   "outputs": [],
   "source": [
    "df_cp = df.copy()"
   ]
  },
  {
   "cell_type": "code",
   "execution_count": null,
   "id": "fa1cb28d",
   "metadata": {},
   "outputs": [],
   "source": []
  }
 ],
 "metadata": {
  "kernelspec": {
   "display_name": "bprmls",
   "language": "python",
   "name": "python3"
  },
  "language_info": {
   "codemirror_mode": {
    "name": "ipython",
    "version": 3
   },
   "file_extension": ".py",
   "mimetype": "text/x-python",
   "name": "python",
   "nbconvert_exporter": "python",
   "pygments_lexer": "ipython3",
   "version": "3.11.13"
  }
 },
 "nbformat": 4,
 "nbformat_minor": 5
}
