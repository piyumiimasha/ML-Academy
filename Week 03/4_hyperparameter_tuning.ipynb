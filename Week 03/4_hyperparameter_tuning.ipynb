{
 "cells": [
  {
   "cell_type": "code",
   "execution_count": 4,
   "id": "bf660d87",
   "metadata": {},
   "outputs": [],
   "source": [
    "import warnings\n",
    "import numpy as np\n",
    "import pandas as pd\n",
    "import matplotlib.pyplot as plt\n",
    "import seaborn as sns\n",
    "from sklearn.linear_model import LogisticRegression\n",
    "from sklearn.ensemble import RandomForestClassifier\n",
    "from sklearn.tree import DecisionTreeClassifier\n",
    "from sklearn.model_selection import (\n",
    "    StratifiedKFold,\n",
    "    cross_validate,\n",
    "    GridSearchCV\n",
    ")\n",
    "from sklearn.metrics import(\n",
    "    confusion_matrix\n",
    ") \n",
    "warnings.filterwarnings('ignore')"
   ]
  },
  {
   "cell_type": "code",
   "execution_count": 3,
   "id": "388c628b",
   "metadata": {},
   "outputs": [],
   "source": [
    "X_train = np.load(\"artifacts/X_train.npz\")['arr_0']\n",
    "X_test = np.load(\"artifacts/X_test.npz\")['arr_0']\n",
    "y_train = np.load(\"artifacts/y_train.npz\")['arr_0']\n",
    "y_test = np.load(\"artifacts/y_test.npz\")['arr_0']"
   ]
  },
  {
   "cell_type": "markdown",
   "id": "6f88c3aa",
   "metadata": {},
   "source": [
    "### Define Models with hyperparameters"
   ]
  },
  {
   "cell_type": "code",
   "execution_count": null,
   "id": "ffb08722",
   "metadata": {},
   "outputs": [],
   "source": [
    "lr_param_grid = {\n",
    "    'max_iter': [1000, 5000, 10000],\n",
    "}\n",
    "\n",
    "dt_param_grid = {\n",
    "    'max_depth' : [8,12,16, 20],\n",
    "    'criterion': ['gini', 'entropy', 'log_loss'],\n",
    "}\n",
    "\n",
    "# only adding few params for randon forest because it takes a lot of time to train\n",
    "rf_param_grid = {\n",
    "    'n_estimators': [100],\n",
    "    'max_depth': [8, 12],\n",
    "    'criterion': ['gini', 'entropy', 'log_loss'],\n",
    "}\n",
    "# Dictionary to hold parameter grids for each model\n",
    "param_grids = {\n",
    "    \"Logistic Regression\": lr_param_grid,\n",
    "    \"Decision Tree\": dt_param_grid,\n",
    "    \"Random Forest\": rf_param_grid\n",
    "}"
   ]
  },
  {
   "cell_type": "code",
   "execution_count": 10,
   "id": "b261b4b5",
   "metadata": {},
   "outputs": [],
   "source": [
    "models = {\n",
    "    \"Logistic Regression\": LogisticRegression(),\n",
    "    \"Decision Tree\": DecisionTreeClassifier(),\n",
    "    \"Random Forest\": RandomForestClassifier()\n",
    "}"
   ]
  },
  {
   "cell_type": "markdown",
   "id": "d707e6d4",
   "metadata": {},
   "source": [
    "### configure K-fold CV"
   ]
  },
  {
   "cell_type": "code",
   "execution_count": 11,
   "id": "9e8a90c7",
   "metadata": {},
   "outputs": [],
   "source": [
    "cv = StratifiedKFold(\n",
    "    n_splits=6,\n",
    "    shuffle=True, \n",
    "    random_state=42)\n"
   ]
  },
  {
   "cell_type": "markdown",
   "id": "47b0e6e4",
   "metadata": {},
   "source": [
    "### Model Training with gridsearch"
   ]
  },
  {
   "cell_type": "code",
   "execution_count": 12,
   "id": "99cf1c1b",
   "metadata": {},
   "outputs": [
    {
     "name": "stdout",
     "output_type": "stream",
     "text": [
      "Tuning Logistic Regression...\n",
      "fitting gridSearchCV for Logistic Regression .\n",
      "Fitting 6 folds for each of 3 candidates, totalling 18 fits\n",
      "GridSearchCV for Logistic Regression completed.\n",
      "Best parameters for Logistic Regression: {'max_iter': 1000}\n",
      "Best score for Logistic Regression: 0.7156\n",
      "\n",
      "Tuning Decision Tree...\n",
      "fitting gridSearchCV for Decision Tree .\n",
      "Fitting 6 folds for each of 12 candidates, totalling 72 fits\n",
      "GridSearchCV for Decision Tree completed.\n",
      "Best parameters for Decision Tree: {'criterion': 'entropy', 'max_depth': 20}\n",
      "Best score for Decision Tree: 0.8373\n",
      "\n",
      "Tuning Random Forest...\n",
      "fitting gridSearchCV for Random Forest .\n",
      "Fitting 6 folds for each of 6 candidates, totalling 36 fits\n",
      "GridSearchCV for Random Forest completed.\n",
      "Best parameters for Random Forest: {'criterion': 'gini', 'max_depth': 12, 'n_estimators': 100}\n",
      "Best score for Random Forest: 0.8726\n",
      "\n"
     ]
    }
   ],
   "source": [
    "grid_search_results = {}\n",
    "# models is a dictionary where keys are model names and values are the model instances\n",
    "for model_name, model in models.items():\n",
    "    print(f\"Tuning {model_name}...\")\n",
    "    param_grid = param_grids[model_name]\n",
    "    grid_search = GridSearchCV(\n",
    "        estimator=model,\n",
    "        param_grid=param_grid,\n",
    "        scoring='f1',\n",
    "        cv=cv,\n",
    "        verbose=1,\n",
    "        return_train_score= False\n",
    "    )\n",
    "\n",
    "    print(f\"fitting gridSearchCV for {model_name} .\")\n",
    "    grid_search.fit(X_train, y_train)\n",
    "\n",
    "    grid_search_results[model_name] = grid_search\n",
    "    print(f\"GridSearchCV for {model_name} completed.\")\n",
    "\n",
    "    print(f\"Best parameters for {model_name}: {grid_search.best_params_}\")\n",
    "    print(f\"Best score for {model_name}: {grid_search.best_score_:.4f}\\n\")"
   ]
  },
  {
   "cell_type": "code",
   "execution_count": null,
   "id": "281acdf8",
   "metadata": {},
   "outputs": [],
   "source": []
  }
 ],
 "metadata": {
  "kernelspec": {
   "display_name": "bprmls",
   "language": "python",
   "name": "python3"
  },
  "language_info": {
   "codemirror_mode": {
    "name": "ipython",
    "version": 3
   },
   "file_extension": ".py",
   "mimetype": "text/x-python",
   "name": "python",
   "nbconvert_exporter": "python",
   "pygments_lexer": "ipython3",
   "version": "3.11.13"
  }
 },
 "nbformat": 4,
 "nbformat_minor": 5
}
